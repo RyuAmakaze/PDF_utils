{
 "cells": [
  {
   "cell_type": "code",
   "execution_count": 1,
   "metadata": {},
   "outputs": [
    {
     "name": "stdout",
     "output_type": "stream",
     "text": [
      "PDFs merged into merged_output.pdf\n"
     ]
    }
   ],
   "source": [
    "import os\n",
    "from PyPDF2 import PdfMerger\n",
    "\n",
    "def merge_pdfs_in_folder(folder_path, output_path):\n",
    "    # PDFを結合するためのオブジェクトを作成\n",
    "    merger = PdfMerger()\n",
    "\n",
    "    # フォルダ内のファイルをすべて取得し、PDFファイルのみ選択\n",
    "    for filename in sorted(os.listdir(folder_path)):\n",
    "        if filename.endswith(\".pdf\"):\n",
    "            file_path = os.path.join(folder_path, filename)\n",
    "            with open(file_path, \"rb\") as pdf_file:\n",
    "                merger.append(pdf_file)\n",
    "\n",
    "    # 結合したPDFを保存\n",
    "    with open(output_path, \"wb\") as output_pdf:\n",
    "        merger.write(output_pdf)\n",
    "\n",
    "    print(f\"PDFs merged into {output_path}\")\n",
    "\n",
    "# 使用例\n",
    "merge_pdfs_in_folder(\"submit\", \"merged_output.pdf\")\n"
   ]
  },
  {
   "cell_type": "code",
   "execution_count": 2,
   "metadata": {},
   "outputs": [
    {
     "name": "stdout",
     "output_type": "stream",
     "text": [
      "Collecting PyPDF2\n",
      "  Downloading pypdf2-3.0.1-py3-none-any.whl (232 kB)\n",
      "Requirement already satisfied: typing_extensions>=3.10.0.0 in c:\\users\\yamaoka\\anaconda3\\lib\\site-packages (from PyPDF2) (3.10.0.2)\n",
      "Installing collected packages: PyPDF2\n",
      "Successfully installed PyPDF2-3.0.1\n"
     ]
    },
    {
     "name": "stderr",
     "output_type": "stream",
     "text": [
      "WARNING: Ignoring invalid distribution -pencv-python (c:\\users\\yamaoka\\anaconda3\\lib\\site-packages)\n",
      "WARNING: Ignoring invalid distribution -pencv-python (c:\\users\\yamaoka\\anaconda3\\lib\\site-packages)\n",
      "WARNING: Ignoring invalid distribution -pencv-python (c:\\users\\yamaoka\\anaconda3\\lib\\site-packages)\n",
      "WARNING: Ignoring invalid distribution -pencv-python (c:\\users\\yamaoka\\anaconda3\\lib\\site-packages)\n",
      "WARNING: Ignoring invalid distribution -pencv-python (c:\\users\\yamaoka\\anaconda3\\lib\\site-packages)\n",
      "WARNING: Ignoring invalid distribution -pencv-python (c:\\users\\yamaoka\\anaconda3\\lib\\site-packages)\n",
      "WARNING: Ignoring invalid distribution -pencv-python (c:\\users\\yamaoka\\anaconda3\\lib\\site-packages)\n"
     ]
    }
   ],
   "source": [
    "!pip install PyPDF2"
   ]
  },
  {
   "cell_type": "code",
   "execution_count": null,
   "metadata": {},
   "outputs": [],
   "source": []
  }
 ],
 "metadata": {
  "kernelspec": {
   "display_name": "base",
   "language": "python",
   "name": "python3"
  },
  "language_info": {
   "codemirror_mode": {
    "name": "ipython",
    "version": 3
   },
   "file_extension": ".py",
   "mimetype": "text/x-python",
   "name": "python",
   "nbconvert_exporter": "python",
   "pygments_lexer": "ipython3",
   "version": "3.9.7"
  }
 },
 "nbformat": 4,
 "nbformat_minor": 2
}
